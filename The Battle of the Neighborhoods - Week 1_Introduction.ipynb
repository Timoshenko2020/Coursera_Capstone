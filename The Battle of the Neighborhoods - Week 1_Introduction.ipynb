{
 "cells": [
  {
   "cell_type": "markdown",
   "metadata": {},
   "source": [
    "# **The Battle of the Neighborhoods - Week 1**"
   ]
  },
  {
   "cell_type": "markdown",
   "metadata": {},
   "source": [
    "## **Introduction/Business Problem :**"
   ]
  },
  {
   "cell_type": "markdown",
   "metadata": {},
   "source": [
    "## **Background of the project:**"
   ]
  },
  {
   "cell_type": "markdown",
   "metadata": {},
   "source": [
    "Let's assumme that for the City of New York will be used for this project given is populous city in the United States. As it is the financial capital of USA. It provides lot of business oppourtunities and business friendly environment given its multicultural aspects. It is a global hub of business and commerce. The city is a major center for banking and finance, retailing, world trade, transportation, tourism, real estate, new media, traditional media, advertising, legal services, accountancy, insurance, theater, fashion, and the arts in the United States."
   ]
  },
  {
   "cell_type": "markdown",
   "metadata": {},
   "source": [
    "This leads us to think that the cost of doing business is extremelly high and competitive. Thus, any new business needs to be analysed deeply. The findings deriving from analysis will give good understanding of the business environment which help in strategically targeting the market. those findings will help reducing risk of entering into the market and thus having a good return on capital."
   ]
  },
  {
   "cell_type": "markdown",
   "metadata": {},
   "source": [
    "## **Description of the problem to be solved**"
   ]
  },
  {
   "cell_type": "markdown",
   "metadata": {},
   "source": [
    "As we want to know more on the restauration industry in this city. The City of New York, well know for its famous cuisine driven by the foreign inhabitants and multiculture population history in it."
   ]
  },
  {
   "cell_type": "markdown",
   "metadata": {},
   "source": [
    "Here are some categories of immigrants leadings the restauration industry :\n",
    "\n",
    "   1. Central and Eastern European immigrants, especially Jewish immigrants - bagels, cheesecake, hot dogs, knishes, and delicatessens\n",
    "   2. Italian immigrants - New York-style pizza and Italian cuisine\n",
    "   3. Jewish immigrants and Irish immigrants - pastrami and corned beef\n",
    "   4. Chinese and other Asian restaurants, sandwich joints, trattorias, diners, and coffeehouses are ubiquitous throughout the city\n",
    "   5. mobile food vendors - Some 4,000 licensed by the city\n",
    "   6. Middle Eastern foods such as falafel and kebabs examples of modern New York street food\n",
    "   7. It is famous for not just Pizzerias, Cafe's but also for fine dining Michelin starred restaurants.The city is home to \"nearly one thousand of the finest and       most diverse haute cuisine restaurants in the world\", according to Michelin.\n"
   ]
  },
  {
   "cell_type": "markdown",
   "metadata": {},
   "source": [
    "Taking a look on that we can consider that to be able to last in such a competitive market it is very important to startegically plan. Various factors need to planned in order to make a good decision on the Location to start a restauration business such as :\n",
    "\n",
    "   1. New York Population\n",
    "   2. New York City Demographics\n",
    "   3. Are there any Farmers Markets, Wholesale markets etc nearby so that the ingredients can be purchased fresh to maintain quality and cost?\n",
    "   4. Are there any venues like Gyms, Entertainmnet zones, Parks etc nearby where floating population is high etc\n",
    "   5. Who are the competitors in that location?\n",
    "   6. Cuisine served / Menu of the competitors\n",
    "   7. Segmentation of the Borough\n",
    "   8. Untapped markets\n",
    "   9. Saturated markets etc\n",
    "     "
   ]
  },
  {
   "cell_type": "markdown",
   "metadata": {},
   "source": [
    "The company Mikiair Ltd needs to choose the correct location to start the first retaurant in the area. And this first start will lead to a business development in the city of New York."
   ]
  },
  {
   "cell_type": "markdown",
   "metadata": {},
   "source": [
    "## **Target Audience:**"
   ]
  },
  {
   "cell_type": "markdown",
   "metadata": {},
   "source": [
    "The target audience is the company Mikiair Ltd. The Mikiair Ltd company consult me as a data scientist to recommend the correct location for the starting business. The management of Mikiair Ltd also want to understand how feasible will be the project and excpects more understanding on the project.\n",
    "\n",
    "This project will also interest anyone who wants to start a new restaurant in Newyork city."
   ]
  },
  {
   "cell_type": "markdown",
   "metadata": {},
   "source": [
    "## **Success Criteria:**"
   ]
  },
  {
   "cell_type": "markdown",
   "metadata": {},
   "source": [
    "The success criteria of the project will be a good recommendation of borough/Neighborhood choice to Mikiair Ltd Company based on Lack of such restaurants in that location and nearest suppliers of ingredients."
   ]
  },
  {
   "cell_type": "code",
   "execution_count": null,
   "metadata": {},
   "outputs": [],
   "source": []
  }
 ],
 "metadata": {
  "kernelspec": {
   "display_name": "Python",
   "language": "python",
   "name": "conda-env-python-py"
  },
  "language_info": {
   "codemirror_mode": {
    "name": "ipython",
    "version": 3
   },
   "file_extension": ".py",
   "mimetype": "text/x-python",
   "name": "python",
   "nbconvert_exporter": "python",
   "pygments_lexer": "ipython3",
   "version": "3.6.10"
  }
 },
 "nbformat": 4,
 "nbformat_minor": 4
}
